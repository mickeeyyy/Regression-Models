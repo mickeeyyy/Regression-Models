{
 "cells": [
  {
   "cell_type": "code",
   "execution_count": 2,
   "metadata": {},
   "outputs": [],
   "source": [
    "import numpy as np\n",
    "import pandas as pd\n",
    "import matplotlib.pyplot as plt\n",
    "import seaborn as sns\n",
    "%matplotlib inline \n",
    "sns.set_style(\"darkgrid\")"
   ]
  },
  {
   "cell_type": "code",
   "execution_count": 3,
   "metadata": {},
   "outputs": [],
   "source": [
    "data=pd.read_csv(\"onion_dataset.csv\")"
   ]
  },
  {
   "cell_type": "code",
   "execution_count": 4,
   "metadata": {},
   "outputs": [
    {
     "data": {
      "text/html": [
       "<div>\n",
       "<style scoped>\n",
       "    .dataframe tbody tr th:only-of-type {\n",
       "        vertical-align: middle;\n",
       "    }\n",
       "\n",
       "    .dataframe tbody tr th {\n",
       "        vertical-align: top;\n",
       "    }\n",
       "\n",
       "    .dataframe thead th {\n",
       "        text-align: right;\n",
       "    }\n",
       "</style>\n",
       "<table border=\"1\" class=\"dataframe\">\n",
       "  <thead>\n",
       "    <tr style=\"text-align: right;\">\n",
       "      <th></th>\n",
       "      <th>Growing Time</th>\n",
       "      <th>Dry Weight</th>\n",
       "    </tr>\n",
       "  </thead>\n",
       "  <tbody>\n",
       "    <tr>\n",
       "      <th>0</th>\n",
       "      <td>1</td>\n",
       "      <td>16</td>\n",
       "    </tr>\n",
       "    <tr>\n",
       "      <th>1</th>\n",
       "      <td>2</td>\n",
       "      <td>33</td>\n",
       "    </tr>\n",
       "    <tr>\n",
       "      <th>2</th>\n",
       "      <td>3</td>\n",
       "      <td>65</td>\n",
       "    </tr>\n",
       "    <tr>\n",
       "      <th>3</th>\n",
       "      <td>4</td>\n",
       "      <td>97</td>\n",
       "    </tr>\n",
       "    <tr>\n",
       "      <th>4</th>\n",
       "      <td>5</td>\n",
       "      <td>121</td>\n",
       "    </tr>\n",
       "  </tbody>\n",
       "</table>\n",
       "</div>"
      ],
      "text/plain": [
       "   Growing Time  Dry Weight\n",
       "0             1          16\n",
       "1             2          33\n",
       "2             3          65\n",
       "3             4          97\n",
       "4             5         121"
      ]
     },
     "execution_count": 4,
     "metadata": {},
     "output_type": "execute_result"
    }
   ],
   "source": [
    "data.head()"
   ]
  },
  {
   "cell_type": "code",
   "execution_count": 5,
   "metadata": {},
   "outputs": [
    {
     "name": "stdout",
     "output_type": "stream",
     "text": [
      "<class 'pandas.core.frame.DataFrame'>\n",
      "RangeIndex: 15 entries, 0 to 14\n",
      "Data columns (total 2 columns):\n",
      " #   Column        Non-Null Count  Dtype\n",
      "---  ------        --------------  -----\n",
      " 0   Growing Time  15 non-null     int64\n",
      " 1   Dry Weight    15 non-null     int64\n",
      "dtypes: int64(2)\n",
      "memory usage: 368.0 bytes\n"
     ]
    }
   ],
   "source": [
    "data.info()"
   ]
  },
  {
   "cell_type": "code",
   "execution_count": 6,
   "metadata": {},
   "outputs": [
    {
     "data": {
      "text/html": [
       "<div>\n",
       "<style scoped>\n",
       "    .dataframe tbody tr th:only-of-type {\n",
       "        vertical-align: middle;\n",
       "    }\n",
       "\n",
       "    .dataframe tbody tr th {\n",
       "        vertical-align: top;\n",
       "    }\n",
       "\n",
       "    .dataframe thead th {\n",
       "        text-align: right;\n",
       "    }\n",
       "</style>\n",
       "<table border=\"1\" class=\"dataframe\">\n",
       "  <thead>\n",
       "    <tr style=\"text-align: right;\">\n",
       "      <th></th>\n",
       "      <th>Growing Time</th>\n",
       "      <th>Dry Weight</th>\n",
       "    </tr>\n",
       "  </thead>\n",
       "  <tbody>\n",
       "    <tr>\n",
       "      <th>count</th>\n",
       "      <td>15.000000</td>\n",
       "      <td>15.000000</td>\n",
       "    </tr>\n",
       "    <tr>\n",
       "      <th>mean</th>\n",
       "      <td>8.000000</td>\n",
       "      <td>438.133333</td>\n",
       "    </tr>\n",
       "    <tr>\n",
       "      <th>std</th>\n",
       "      <td>4.472136</td>\n",
       "      <td>311.674250</td>\n",
       "    </tr>\n",
       "    <tr>\n",
       "      <th>min</th>\n",
       "      <td>1.000000</td>\n",
       "      <td>16.000000</td>\n",
       "    </tr>\n",
       "    <tr>\n",
       "      <th>25%</th>\n",
       "      <td>4.500000</td>\n",
       "      <td>109.000000</td>\n",
       "    </tr>\n",
       "    <tr>\n",
       "      <th>50%</th>\n",
       "      <td>8.000000</td>\n",
       "      <td>520.000000</td>\n",
       "    </tr>\n",
       "    <tr>\n",
       "      <th>75%</th>\n",
       "      <td>11.500000</td>\n",
       "      <td>675.000000</td>\n",
       "    </tr>\n",
       "    <tr>\n",
       "      <th>max</th>\n",
       "      <td>15.000000</td>\n",
       "      <td>989.000000</td>\n",
       "    </tr>\n",
       "  </tbody>\n",
       "</table>\n",
       "</div>"
      ],
      "text/plain": [
       "       Growing Time  Dry Weight\n",
       "count     15.000000   15.000000\n",
       "mean       8.000000  438.133333\n",
       "std        4.472136  311.674250\n",
       "min        1.000000   16.000000\n",
       "25%        4.500000  109.000000\n",
       "50%        8.000000  520.000000\n",
       "75%       11.500000  675.000000\n",
       "max       15.000000  989.000000"
      ]
     },
     "execution_count": 6,
     "metadata": {},
     "output_type": "execute_result"
    }
   ],
   "source": [
    "data.describe()"
   ]
  },
  {
   "cell_type": "code",
   "execution_count": 7,
   "metadata": {},
   "outputs": [
    {
     "data": {
      "text/plain": [
       "<matplotlib.axes._subplots.AxesSubplot at 0x152bfa13ec8>"
      ]
     },
     "execution_count": 7,
     "metadata": {},
     "output_type": "execute_result"
    },
    {
     "data": {
      "image/png": "[encoded data removed]",
      "text/plain": [
       "<Figure size 432x288 with 1 Axes>"
      ]
     },
     "metadata": {},
     "output_type": "display_data"
    }
   ],
   "source": [
    "#step4: Data Visualization\n",
    "sns.scatterplot(data['Growing Time'],data['Dry Weight'])"
   ]
  },
  {
   "cell_type": "code",
   "execution_count": 8,
   "metadata": {},
   "outputs": [
    {
     "data": {
      "text/plain": [
       "<matplotlib.axes._subplots.AxesSubplot at 0x152c015ee08>"
      ]
     },
     "execution_count": 8,
     "metadata": {},
     "output_type": "execute_result"
    },
    {
     "data": {
      "image/png": "[encoded data removed]",
      "text/plain": [
       "<Figure size 432x288 with 1 Axes>"
      ]
     },
     "metadata": {},
     "output_type": "display_data"
    }
   ],
   "source": [
    "#linear line in the regression plot\n",
    "sns.regplot(data['Growing Time'],data['Dry Weight'])"
   ]
  },
  {
   "cell_type": "markdown",
   "metadata": {},
   "source": [
    "question: Do you think linear model is a good representative for the relationship? why and why not.\n",
    "Answer: yes, the linear model will suit good for this dataset because while visualization the scatter regplot can notice how the line linearly separates the data."
   ]
  },
  {
   "cell_type": "code",
   "execution_count": 9,
   "metadata": {},
   "outputs": [],
   "source": [
    "#model building\n",
    "\n",
    "\n",
    "from sklearn.linear_model import LinearRegression\n",
    "from sklearn.model_selection import train_test_split\n",
    "from sklearn.metrics import precision_score,classification_report\n",
    "from sklearn.preprocessing import PolynomialFeatures"
   ]
  },
  {
   "cell_type": "code",
   "execution_count": 10,
   "metadata": {},
   "outputs": [],
   "source": [
    "#select x & y variables, x is the independent variable and y is the dependent variable\n",
    "\n",
    "x=data['Growing Time']\n",
    "y=data['Dry Weight']"
   ]
  },
  {
   "cell_type": "code",
   "execution_count": 11,
   "metadata": {},
   "outputs": [],
   "source": [
    "#perform train & test split with the x and y.\n",
    "\n",
    "xtrain,xtest,ytrain,ytest=train_test_split(x,y,test_size=0.3,random_state=3)"
   ]
  },
  {
   "cell_type": "code",
   "execution_count": 12,
   "metadata": {},
   "outputs": [],
   "source": [
    "#Before model building reshape the data\n",
    "\n",
    "xtrain=xtrain.values.reshape(-1, 1)\n",
    "ytrain=ytrain.values.reshape(-1, 1)\n",
    "xtest=xtest.values.reshape(-1,1)\n",
    "ytest=ytest.values.reshape(-1,1)"
   ]
  },
  {
   "cell_type": "code",
   "execution_count": 13,
   "metadata": {},
   "outputs": [
    {
     "data": {
      "text/plain": [
       "LinearRegression(copy_X=True, fit_intercept=True, n_jobs=None, normalize=False)"
      ]
     },
     "execution_count": 13,
     "metadata": {},
     "output_type": "execute_result"
    }
   ],
   "source": [
    "#Linear regression Model\n",
    "#Model Initialization\n",
    "linear_model=LinearRegression()\n",
    "#Train Data fit in model.\n",
    "linear_model.fit(xtrain,ytrain)"
   ]
  },
  {
   "cell_type": "code",
   "execution_count": 14,
   "metadata": {},
   "outputs": [
    {
     "name": "stdout",
     "output_type": "stream",
     "text": [
      "Train Score:  0.8583128933833811\n",
      "Test Score:  0.8203030925738919\n"
     ]
    }
   ],
   "source": [
    "#Train & Test score:\n",
    "\n",
    "print(\"Train Score: \",linear_model.score(xtrain,ytrain))\n",
    "print(\"Test Score: \",linear_model.score(xtest,ytest))"
   ]
  },
  {
   "cell_type": "code",
   "execution_count": 15,
   "metadata": {},
   "outputs": [
    {
     "name": "stdout",
     "output_type": "stream",
     "text": [
      "Train Score for 2nd Degree:  0.9319464869061305\n",
      "Test Score for 2nd Degree:  0.7996951261308362\n"
     ]
    }
   ],
   "source": [
    "#polynomial Mdel with 2,3,4 Degree\n",
    "#Degree assigned as 2\n",
    "model1 = PolynomialFeatures(degree=2)\n",
    "#Transform the X variable\n",
    "x_trans = model1.fit_transform(xtrain)\n",
    "x_test = model1.fit_transform(xtest)\n",
    "#Fit the linear model\n",
    "logistics_2= LinearRegression()\n",
    "logistics_2.fit(x_trans,ytrain)\n",
    "\n",
    "#Print the score of the model\n",
    "print(\"Train Score for 2nd Degree: \",logistics_2.score(x_trans,ytrain))\n",
    "print(\"Test Score for 2nd Degree: \",logistics_2.score(x_test,ytest))"
   ]
  },
  {
   "cell_type": "code",
   "execution_count": 16,
   "metadata": {},
   "outputs": [
    {
     "name": "stdout",
     "output_type": "stream",
     "text": [
      "Train Score for 3rd Degree:  0.9748062470576107\n",
      "Test Score for 3rd Degree:  0.8822723029256285\n"
     ]
    }
   ],
   "source": [
    "#3rd degree polynomial feature\n",
    "model2 = PolynomialFeatures(degree=3)\n",
    "x_trans = model2.fit_transform(xtrain)\n",
    "x_test = model2.fit_transform(xtest)\n",
    "logistics_3= LinearRegression()\n",
    "logistics_3.fit(x_trans,ytrain)\n",
    "print(\"Train Score for 3rd Degree: \",logistics_3.score(x_trans,ytrain))\n",
    "print(\"Test Score for 3rd Degree: \",logistics_3.score(x_test,ytest))"
   ]
  },
  {
   "cell_type": "code",
   "execution_count": 17,
   "metadata": {},
   "outputs": [
    {
     "name": "stdout",
     "output_type": "stream",
     "text": [
      "Train Score for 4th Degree:  0.992250000424344\n",
      "Test Score for 4th Degree:  0.8316941071915699\n"
     ]
    }
   ],
   "source": [
    "#4th degree\n",
    "model3 = PolynomialFeatures(degree=4)\n",
    "x_trans = model3.fit_transform(xtrain)\n",
    "x_test = model3.fit_transform(xtest)\n",
    "logistics_4= LinearRegression()\n",
    "logistics_4.fit(x_trans,ytrain)\n",
    "print(\"Train Score for 4th Degree: \",logistics_4.score(x_trans,ytrain))\n",
    "print(\"Test Score for 4th Degree: \",logistics_4.score(x_test,ytest))"
   ]
  },
  {
   "cell_type": "markdown",
   "metadata": {},
   "source": [
    "By analysing all model accuracy score, we can go with linear regression because in that the model is righ fitted apart from that all polynomial models are over fitted."
   ]
  },
  {
   "cell_type": "code",
   "execution_count": 18,
   "metadata": {},
   "outputs": [
    {
     "data": {
      "text/plain": [
       "array([[717.98390805],\n",
       "       [277.61609195],\n",
       "       [112.47816092],\n",
       "       [387.70804598],\n",
       "       [167.52413793]])"
      ]
     },
     "execution_count": 18,
     "metadata": {},
     "output_type": "execute_result"
    }
   ],
   "source": [
    "#Step 6\n",
    "#prediction with linear regression model\n",
    "y_pred1 =linear_model.predict(xtest)\n",
    "y_pred1"
   ]
  },
  {
   "cell_type": "code",
   "execution_count": null,
   "metadata": {},
   "outputs": [],
   "source": []
  }
 ],
 "metadata": {
  "kernelspec": {
   "display_name": "Python 3 (ipykernel)",
   "language": "python",
   "name": "python3"
  },
  "language_info": {
   "codemirror_mode": {
    "name": "ipython",
    "version": 3
   },
   "file_extension": ".py",
   "mimetype": "text/x-python",
   "name": "python",
   "nbconvert_exporter": "python",
   "pygments_lexer": "ipython3",
   "version": "3.9.7"
  }
 },
 "nbformat": 4,
 "nbformat_minor": 4
}
